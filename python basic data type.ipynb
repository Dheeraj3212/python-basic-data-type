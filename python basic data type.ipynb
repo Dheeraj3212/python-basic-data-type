{
 "cells": [
  {
   "cell_type": "code",
   "execution_count": 1,
   "id": "e2ef6afc-6a81-4527-b94a-36234f29175d",
   "metadata": {},
   "outputs": [],
   "source": [
    "l = []"
   ]
  },
  {
   "cell_type": "code",
   "execution_count": 4,
   "id": "6c91e35c-7c87-4524-ab43-b6a0dc121e03",
   "metadata": {},
   "outputs": [
    {
     "data": {
      "text/plain": [
       "list"
      ]
     },
     "execution_count": 4,
     "metadata": {},
     "output_type": "execute_result"
    }
   ],
   "source": [
    "type(l)"
   ]
  },
  {
   "cell_type": "code",
   "execution_count": 5,
   "id": "4e0f18af-e5e1-45ca-a76c-60736858d097",
   "metadata": {},
   "outputs": [],
   "source": [
    "l1 = [1,2,3,4,5,\"sudh\",\"kumar\",3+6j,345.56,[1,2,3,],\"True\"]"
   ]
  },
  {
   "cell_type": "code",
   "execution_count": 6,
   "id": "69d1c827-d858-45a8-92f3-fc64a2d186e4",
   "metadata": {},
   "outputs": [
    {
     "data": {
      "text/plain": [
       "[1, 2, 3, 4, 5, 'sudh', 'kumar', (3+6j), 345.56, [1, 2, 3], 'True']"
      ]
     },
     "execution_count": 6,
     "metadata": {},
     "output_type": "execute_result"
    }
   ],
   "source": [
    "l1"
   ]
  },
  {
   "cell_type": "code",
   "execution_count": 7,
   "id": "e6deb3c3-c6ef-451c-ab9a-7bfad9e37a7e",
   "metadata": {},
   "outputs": [
    {
     "data": {
      "text/plain": [
       "list"
      ]
     },
     "execution_count": 7,
     "metadata": {},
     "output_type": "execute_result"
    }
   ],
   "source": [
    "type(l1)"
   ]
  },
  {
   "cell_type": "code",
   "execution_count": 8,
   "id": "b596fa08-7584-455c-ba5e-26e5cfe48c76",
   "metadata": {},
   "outputs": [
    {
     "data": {
      "text/plain": [
       "'sudh'"
      ]
     },
     "execution_count": 8,
     "metadata": {},
     "output_type": "execute_result"
    }
   ],
   "source": [
    "l1[5]"
   ]
  },
  {
   "cell_type": "code",
   "execution_count": 9,
   "id": "fc565fea-1a3f-448f-9a53-7cdb1803d040",
   "metadata": {},
   "outputs": [
    {
     "data": {
      "text/plain": [
       "'s'"
      ]
     },
     "execution_count": 9,
     "metadata": {},
     "output_type": "execute_result"
    }
   ],
   "source": [
    "l1[5][0]"
   ]
  },
  {
   "cell_type": "code",
   "execution_count": 10,
   "id": "73348b67-a23b-4419-a3d6-cbab452769ae",
   "metadata": {},
   "outputs": [
    {
     "data": {
      "text/plain": [
       "[1, 2, 3, 4, 5, 'sudh', 'kumar', (3+6j), 345.56, [1, 2, 3], 'True']"
      ]
     },
     "execution_count": 10,
     "metadata": {},
     "output_type": "execute_result"
    }
   ],
   "source": [
    "l + l1"
   ]
  },
  {
   "cell_type": "code",
   "execution_count": 7,
   "id": "c14a9d14-2c96-405a-99fa-d94ebbe08203",
   "metadata": {},
   "outputs": [],
   "source": [
    "l1 = [\"sudh\",\"kumar\",1,2,3,4]"
   ]
  },
  {
   "cell_type": "code",
   "execution_count": 10,
   "id": "06403214-f501-4dcc-9b0e-c355025d5003",
   "metadata": {},
   "outputs": [
    {
     "data": {
      "text/plain": [
       "list"
      ]
     },
     "execution_count": 10,
     "metadata": {},
     "output_type": "execute_result"
    }
   ],
   "source": [
    "type(l1)"
   ]
  },
  {
   "cell_type": "code",
   "execution_count": 13,
   "id": "9e6b9d2c-90ec-4a66-9d82-8d9566f1b3ee",
   "metadata": {},
   "outputs": [
    {
     "data": {
      "text/plain": [
       "['sudh', 'kumar', 1, 2, 3, 4, 'sudh', 'kumar', 1, 2, 3, 4]"
      ]
     },
     "execution_count": 13,
     "metadata": {},
     "output_type": "execute_result"
    }
   ],
   "source": [
    "l1*2"
   ]
  },
  {
   "cell_type": "code",
   "execution_count": 15,
   "id": "fdb3faba-c675-4fbf-b152-b182785d5424",
   "metadata": {},
   "outputs": [],
   "source": [
    "l2 = [3,4,5,6,\"pwskills\",\"4+5j\",\"True\"]"
   ]
  },
  {
   "cell_type": "code",
   "execution_count": 16,
   "id": "ef4998be-b1b7-4570-bd5b-78b0cdc2939d",
   "metadata": {},
   "outputs": [
    {
     "data": {
      "text/plain": [
       "3"
      ]
     },
     "execution_count": 16,
     "metadata": {},
     "output_type": "execute_result"
    }
   ],
   "source": [
    "l2[0]"
   ]
  },
  {
   "cell_type": "code",
   "execution_count": 17,
   "id": "183c8bd0-4e2a-4863-be85-2159cd43a305",
   "metadata": {},
   "outputs": [],
   "source": [
    "l2[0] = 400"
   ]
  },
  {
   "cell_type": "code",
   "execution_count": 18,
   "id": "e7e94574-45d4-4a89-bcc5-502fc3df0a39",
   "metadata": {},
   "outputs": [
    {
     "data": {
      "text/plain": [
       "[400, 4, 5, 6, 'pwskills', '4+5j', 'True']"
      ]
     },
     "execution_count": 18,
     "metadata": {},
     "output_type": "execute_result"
    }
   ],
   "source": [
    "l2"
   ]
  },
  {
   "cell_type": "code",
   "execution_count": 19,
   "id": "53f40fc0-9f08-41fb-8491-bf9c4d49cc3a",
   "metadata": {},
   "outputs": [],
   "source": [
    "t = (1,2,3,4,5,\"sudh\",\"kumar\",3+6j,345.56,[1,2,3,],\"True\")"
   ]
  },
  {
   "cell_type": "code",
   "execution_count": 20,
   "id": "efc521db-1e0e-44b5-8d0a-fb92a3475de0",
   "metadata": {},
   "outputs": [
    {
     "data": {
      "text/plain": [
       "tuple"
      ]
     },
     "execution_count": 20,
     "metadata": {},
     "output_type": "execute_result"
    }
   ],
   "source": [
    "type(t)"
   ]
  },
  {
   "cell_type": "code",
   "execution_count": 21,
   "id": "21741e59-9f50-47f2-8044-c568b76ed731",
   "metadata": {},
   "outputs": [
    {
     "data": {
      "text/plain": [
       "(1, 2, 3, 4, 5, 'sudh', 'kumar', (3+6j), 345.56, [1, 2, 3], 'True')"
      ]
     },
     "execution_count": 21,
     "metadata": {},
     "output_type": "execute_result"
    }
   ],
   "source": [
    "tuple(t)"
   ]
  },
  {
   "cell_type": "code",
   "execution_count": 22,
   "id": "6b2fa7b7-66d4-4a02-9412-3049353ae3c7",
   "metadata": {},
   "outputs": [
    {
     "data": {
      "text/plain": [
       "('True', [1, 2, 3], 345.56, (3+6j), 'kumar', 'sudh', 5, 4, 3, 2, 1)"
      ]
     },
     "execution_count": 22,
     "metadata": {},
     "output_type": "execute_result"
    }
   ],
   "source": [
    "t[ : :-1]"
   ]
  },
  {
   "cell_type": "code",
   "execution_count": 24,
   "id": "b618d8df-346e-4c4a-9aff-b643a697828c",
   "metadata": {},
   "outputs": [
    {
     "data": {
      "text/plain": [
       "(1, 2, 3, 4, 5, 'sudh', 'kumar', (3+6j), 345.56, [1, 2, 3], 'True')"
      ]
     },
     "execution_count": 24,
     "metadata": {},
     "output_type": "execute_result"
    }
   ],
   "source": [
    "t[0:12:1]"
   ]
  },
  {
   "cell_type": "code",
   "execution_count": 28,
   "id": "1b11300d-bad9-4a8b-9231-1da8c57ac2ab",
   "metadata": {},
   "outputs": [],
   "source": [
    "t1 = t"
   ]
  },
  {
   "cell_type": "code",
   "execution_count": 29,
   "id": "56eaf923-f168-4e7a-af19-ea66ebd57b13",
   "metadata": {},
   "outputs": [],
   "source": [
    "t1 = (45,36,25,12)"
   ]
  },
  {
   "cell_type": "code",
   "execution_count": 30,
   "id": "d58c181b-640b-4cf6-aadd-f3db1bae7767",
   "metadata": {},
   "outputs": [
    {
     "data": {
      "text/plain": [
       "(1,\n",
       " 2,\n",
       " 3,\n",
       " 4,\n",
       " 5,\n",
       " 'sudh',\n",
       " 'kumar',\n",
       " (3+6j),\n",
       " 345.56,\n",
       " [1, 2, 3],\n",
       " 'True',\n",
       " 45,\n",
       " 36,\n",
       " 25,\n",
       " 12)"
      ]
     },
     "execution_count": 30,
     "metadata": {},
     "output_type": "execute_result"
    }
   ],
   "source": [
    "t + t1"
   ]
  },
  {
   "cell_type": "code",
   "execution_count": 31,
   "id": "b7e1208b-8792-4179-b930-3b9edeb8b5e4",
   "metadata": {},
   "outputs": [
    {
     "data": {
      "text/plain": [
       "11"
      ]
     },
     "execution_count": 31,
     "metadata": {},
     "output_type": "execute_result"
    }
   ],
   "source": [
    "len(t)"
   ]
  },
  {
   "cell_type": "code",
   "execution_count": 34,
   "id": "45856ecb-1be0-4a60-9b19-cc34b1d63601",
   "metadata": {},
   "outputs": [
    {
     "data": {
      "text/plain": [
       "5"
      ]
     },
     "execution_count": 34,
     "metadata": {},
     "output_type": "execute_result"
    }
   ],
   "source": [
    "len(\"kumar\")"
   ]
  },
  {
   "cell_type": "code",
   "execution_count": 37,
   "id": "d2b5a1a1-0ecf-4108-bb09-587ad5cb66fe",
   "metadata": {},
   "outputs": [],
   "source": [
    "s = {}"
   ]
  },
  {
   "cell_type": "code",
   "execution_count": 39,
   "id": "105879f1-a164-4245-be94-3108c7523c5d",
   "metadata": {},
   "outputs": [
    {
     "data": {
      "text/plain": [
       "dict"
      ]
     },
     "execution_count": 39,
     "metadata": {},
     "output_type": "execute_result"
    }
   ],
   "source": [
    "type(s)"
   ]
  },
  {
   "cell_type": "code",
   "execution_count": 40,
   "id": "5081cafa-7dd7-4803-b912-db5df176b9be",
   "metadata": {},
   "outputs": [],
   "source": [
    "s1 = {1,2,3,4,5,6}"
   ]
  },
  {
   "cell_type": "code",
   "execution_count": 41,
   "id": "68e2cc0e-36c2-4351-bdbf-5a1708e18e7a",
   "metadata": {},
   "outputs": [
    {
     "data": {
      "text/plain": [
       "set"
      ]
     },
     "execution_count": 41,
     "metadata": {},
     "output_type": "execute_result"
    }
   ],
   "source": [
    "type(s1)"
   ]
  },
  {
   "cell_type": "code",
   "execution_count": 42,
   "id": "e2aa217c-897f-440d-a81a-737848ab72bc",
   "metadata": {},
   "outputs": [],
   "source": [
    "s2 = {\"sudh\",\"kumar\",\"Kumar\",\"Sudh\",1,2,3,4,5,6,7,3,4,4,5,4,3,2,1,6,8}"
   ]
  },
  {
   "cell_type": "code",
   "execution_count": 43,
   "id": "f5e6a594-b9f2-4397-a0c7-e3735b7cf330",
   "metadata": {},
   "outputs": [
    {
     "data": {
      "text/plain": [
       "{1, 2, 3, 4, 5, 6, 7, 8, 'Kumar', 'Sudh', 'kumar', 'sudh'}"
      ]
     },
     "execution_count": 43,
     "metadata": {},
     "output_type": "execute_result"
    }
   ],
   "source": [
    "s2"
   ]
  },
  {
   "cell_type": "code",
   "execution_count": 44,
   "id": "1f56fcbc-198d-4eae-96a0-b33fc66ec6ec",
   "metadata": {},
   "outputs": [],
   "source": [
    "l = [\"sudh\",\"kumar\",\"Kumar\",\"Sudh\",1,2,3,4,5,6,7,3,4,4,5,4,3,2,1,6,8]"
   ]
  },
  {
   "cell_type": "code",
   "execution_count": 45,
   "id": "f2ec1718-746f-44b7-965d-456d06662240",
   "metadata": {},
   "outputs": [
    {
     "data": {
      "text/plain": [
       "['sudh',\n",
       " 'kumar',\n",
       " 'Kumar',\n",
       " 'Sudh',\n",
       " 1,\n",
       " 2,\n",
       " 3,\n",
       " 4,\n",
       " 5,\n",
       " 6,\n",
       " 7,\n",
       " 3,\n",
       " 4,\n",
       " 4,\n",
       " 5,\n",
       " 4,\n",
       " 3,\n",
       " 2,\n",
       " 1,\n",
       " 6,\n",
       " 8]"
      ]
     },
     "execution_count": 45,
     "metadata": {},
     "output_type": "execute_result"
    }
   ],
   "source": [
    "l"
   ]
  },
  {
   "cell_type": "code",
   "execution_count": 46,
   "id": "a013c4bd-d218-4ddd-b2ee-8094981b3ccd",
   "metadata": {},
   "outputs": [],
   "source": [
    "t = (\"sudh\",\"kumar\",\"Kumar\",\"Sudh\",1,2,3,4,5,6,7,3,4,4,5,4,3,2,1,6,8)"
   ]
  },
  {
   "cell_type": "code",
   "execution_count": 47,
   "id": "17756c1c-b5fa-4567-b983-0274302df311",
   "metadata": {},
   "outputs": [
    {
     "data": {
      "text/plain": [
       "('sudh',\n",
       " 'kumar',\n",
       " 'Kumar',\n",
       " 'Sudh',\n",
       " 1,\n",
       " 2,\n",
       " 3,\n",
       " 4,\n",
       " 5,\n",
       " 6,\n",
       " 7,\n",
       " 3,\n",
       " 4,\n",
       " 4,\n",
       " 5,\n",
       " 4,\n",
       " 3,\n",
       " 2,\n",
       " 1,\n",
       " 6,\n",
       " 8)"
      ]
     },
     "execution_count": 47,
     "metadata": {},
     "output_type": "execute_result"
    }
   ],
   "source": [
    "t"
   ]
  },
  {
   "cell_type": "code",
   "execution_count": 50,
   "id": "31a0f536-0b3c-4b8c-97ce-2c7ed4fae80c",
   "metadata": {},
   "outputs": [],
   "source": [
    "s3 = {11,23,12,45,65,34,345.65,532,23,234,12,11,\"sudh\"}"
   ]
  },
  {
   "cell_type": "code",
   "execution_count": 51,
   "id": "26148b21-f7f8-4f6e-98c0-34d27fd1b24e",
   "metadata": {},
   "outputs": [
    {
     "data": {
      "text/plain": [
       "{11, 12, 23, 234, 34, 345.65, 45, 532, 65, 'sudh'}"
      ]
     },
     "execution_count": 51,
     "metadata": {},
     "output_type": "execute_result"
    }
   ],
   "source": [
    "s3"
   ]
  },
  {
   "cell_type": "code",
   "execution_count": 52,
   "id": "fc8abe09-6210-469c-b6d5-b0ff36e8f9ab",
   "metadata": {},
   "outputs": [],
   "source": [
    "d1 = {\"name\":\"dhruv\",\"subject\":[\"data science\",\"big data\",\"data analyst\"],\"number\":5647645765}"
   ]
  },
  {
   "cell_type": "code",
   "execution_count": 53,
   "id": "39eb3ba2-491a-4ed1-93f1-7a110bc89f72",
   "metadata": {},
   "outputs": [
    {
     "data": {
      "text/plain": [
       "{'name': 'dhruv',\n",
       " 'subject': ['data science', 'big data', 'data analyst'],\n",
       " 'number': 5647645765}"
      ]
     },
     "execution_count": 53,
     "metadata": {},
     "output_type": "execute_result"
    }
   ],
   "source": [
    "d1"
   ]
  },
  {
   "cell_type": "code",
   "execution_count": 54,
   "id": "2a457347-3d7f-4954-8a57-5ced1cbb5da5",
   "metadata": {},
   "outputs": [],
   "source": [
    "d2 = {\"name\":\"sudh\",\"name\":\"Sudh\"}"
   ]
  },
  {
   "cell_type": "code",
   "execution_count": 55,
   "id": "9878bf37-b22f-4c90-9055-76721442bca3",
   "metadata": {},
   "outputs": [
    {
     "data": {
      "text/plain": [
       "{'name': 'Sudh'}"
      ]
     },
     "execution_count": 55,
     "metadata": {},
     "output_type": "execute_result"
    }
   ],
   "source": [
    "d2"
   ]
  },
  {
   "cell_type": "code",
   "execution_count": 56,
   "id": "fc7629f7-1ad4-4ee7-a716-03f744507006",
   "metadata": {},
   "outputs": [],
   "source": [
    "d3 = {\"course\":[\"dsa\",\"java\"],\"mentor\":(\"sudh\",\"krish\",\"imran\"),\"price\":{3500,10000},\"duration\":1,\"access year\":\"1\"}"
   ]
  },
  {
   "cell_type": "code",
   "execution_count": 57,
   "id": "3cae809a-304d-4523-90c5-ac4a64f2bca8",
   "metadata": {},
   "outputs": [
    {
     "data": {
      "text/plain": [
       "{'course': ['dsa', 'java'],\n",
       " 'mentor': ('sudh', 'krish', 'imran'),\n",
       " 'price': {3500, 10000},\n",
       " 'duration': 1,\n",
       " 'access year': '1'}"
      ]
     },
     "execution_count": 57,
     "metadata": {},
     "output_type": "execute_result"
    }
   ],
   "source": [
    "d3"
   ]
  },
  {
   "cell_type": "code",
   "execution_count": 62,
   "id": "d45318c0-767e-40a1-bb32-bde3a51bb5fe",
   "metadata": {},
   "outputs": [],
   "source": [
    "d3 = {\"course\":[\"dsa\",\"java\"],\"mentor\":(\"sudh\",\"krish\",\"imran\"),\"price\":{3500,10000},\"duration\":1,\"access year\":\"1\"}"
   ]
  },
  {
   "cell_type": "code",
   "execution_count": 63,
   "id": "44eb291b-6cf5-4d11-bc07-cdf041928bb8",
   "metadata": {},
   "outputs": [
    {
     "data": {
      "text/plain": [
       "{'course': ['dsa', 'java'],\n",
       " 'mentor': ('sudh', 'krish', 'imran'),\n",
       " 'price': {3500, 10000},\n",
       " 'duration': 1,\n",
       " 'access year': '1'}"
      ]
     },
     "execution_count": 63,
     "metadata": {},
     "output_type": "execute_result"
    }
   ],
   "source": [
    "d3"
   ]
  },
  {
   "cell_type": "code",
   "execution_count": 65,
   "id": "ce33d771-e5a9-4a7b-882a-57a6f3d70397",
   "metadata": {},
   "outputs": [
    {
     "data": {
      "text/plain": [
       "['dsa', 'java']"
      ]
     },
     "execution_count": 65,
     "metadata": {},
     "output_type": "execute_result"
    }
   ],
   "source": [
    "d3['course']"
   ]
  },
  {
   "cell_type": "code",
   "execution_count": 72,
   "id": "6b9b42d8-e35a-4dc2-99f8-0a1a56003868",
   "metadata": {},
   "outputs": [],
   "source": [
    "d4 = {\"syllabus\":[\"ds\",\"c++\"]}"
   ]
  },
  {
   "cell_type": "code",
   "execution_count": 73,
   "id": "5fa62f47-ef7c-4ba9-8faf-77642571c3bb",
   "metadata": {},
   "outputs": [
    {
     "data": {
      "text/plain": [
       "{'syllabus': ['ds', 'c++']}"
      ]
     },
     "execution_count": 73,
     "metadata": {},
     "output_type": "execute_result"
    }
   ],
   "source": [
    "d4"
   ]
  },
  {
   "cell_type": "code",
   "execution_count": 81,
   "id": "bf1bc2b5-ea15-4e79-9b15-726d905a1cf4",
   "metadata": {},
   "outputs": [],
   "source": [
    "d2 = {\"name\":\"pwskills\"}"
   ]
  },
  {
   "cell_type": "code",
   "execution_count": 82,
   "id": "2a973d87-ea14-4dd5-8cb8-0bc58c122645",
   "metadata": {},
   "outputs": [],
   "source": [
    "d2[\"phone number\"] = 9876675657"
   ]
  },
  {
   "cell_type": "code",
   "execution_count": 83,
   "id": "89b70ad2-9dac-4834-9bb5-4318d624faf2",
   "metadata": {},
   "outputs": [
    {
     "data": {
      "text/plain": [
       "{'name': 'pwskills', 'phone number': 9876675657}"
      ]
     },
     "execution_count": 83,
     "metadata": {},
     "output_type": "execute_result"
    }
   ],
   "source": [
    "d2"
   ]
  },
  {
   "cell_type": "code",
   "execution_count": 84,
   "id": "a378ab98-1e5f-4481-bb04-aa7dafbe098a",
   "metadata": {},
   "outputs": [],
   "source": [
    "d2[\"name\"] = \"dhruv\""
   ]
  },
  {
   "cell_type": "code",
   "execution_count": 85,
   "id": "81d0ee9b-1721-497a-8be9-834586a7da72",
   "metadata": {},
   "outputs": [
    {
     "data": {
      "text/plain": [
       "{'name': 'dhruv', 'phone number': 9876675657}"
      ]
     },
     "execution_count": 85,
     "metadata": {},
     "output_type": "execute_result"
    }
   ],
   "source": [
    "d2"
   ]
  },
  {
   "cell_type": "code",
   "execution_count": 86,
   "id": "f20745a9-2b86-4b68-868c-2669ec5640a4",
   "metadata": {},
   "outputs": [
    {
     "data": {
      "text/plain": [
       "{'name': 'dhruv', 'phone number': 9876675657}"
      ]
     },
     "execution_count": 86,
     "metadata": {},
     "output_type": "execute_result"
    }
   ],
   "source": [
    "d2"
   ]
  },
  {
   "cell_type": "code",
   "execution_count": 87,
   "id": "8e513394-f4da-496f-88d3-bf5e5e403adf",
   "metadata": {},
   "outputs": [],
   "source": [
    "d2[\"name\"] = \"sudh\""
   ]
  },
  {
   "cell_type": "code",
   "execution_count": 88,
   "id": "3cbef2e9-4ed5-4474-9760-f0c93ec63575",
   "metadata": {},
   "outputs": [
    {
     "data": {
      "text/plain": [
       "{'name': 'sudh', 'phone number': 9876675657}"
      ]
     },
     "execution_count": 88,
     "metadata": {},
     "output_type": "execute_result"
    }
   ],
   "source": [
    "d2"
   ]
  },
  {
   "cell_type": "code",
   "execution_count": 89,
   "id": "8eb5ba54-60cb-4691-aa08-4b4b1644bf93",
   "metadata": {},
   "outputs": [],
   "source": [
    "d3 = {76567:\"sudh\"}"
   ]
  },
  {
   "cell_type": "code",
   "execution_count": 90,
   "id": "5313154a-a2eb-498d-98bb-c7314cba8f85",
   "metadata": {},
   "outputs": [
    {
     "data": {
      "text/plain": [
       "{76567: 'sudh'}"
      ]
     },
     "execution_count": 90,
     "metadata": {},
     "output_type": "execute_result"
    }
   ],
   "source": [
    "d3"
   ]
  },
  {
   "cell_type": "code",
   "execution_count": 2,
   "id": "3711e328-c046-4d47-88ef-7f237642f986",
   "metadata": {},
   "outputs": [],
   "source": [
    "s1 = \"pwskills\""
   ]
  },
  {
   "cell_type": "code",
   "execution_count": 4,
   "id": "72965138-c600-44b8-b81d-2ac1e27ea912",
   "metadata": {},
   "outputs": [
    {
     "data": {
      "text/plain": [
       "2"
      ]
     },
     "execution_count": 4,
     "metadata": {},
     "output_type": "execute_result"
    }
   ],
   "source": [
    "s1.count('l')"
   ]
  },
  {
   "cell_type": "code",
   "execution_count": 5,
   "id": "3ba4c3b3-d03d-4b44-acc6-930075d3931b",
   "metadata": {},
   "outputs": [
    {
     "data": {
      "text/plain": [
       "2"
      ]
     },
     "execution_count": 5,
     "metadata": {},
     "output_type": "execute_result"
    }
   ],
   "source": [
    "s1.find(\"s\")"
   ]
  },
  {
   "cell_type": "code",
   "execution_count": 6,
   "id": "fc299f19-6409-4d0a-93c1-09166d35c1c2",
   "metadata": {},
   "outputs": [
    {
     "data": {
      "text/plain": [
       "4"
      ]
     },
     "execution_count": 6,
     "metadata": {},
     "output_type": "execute_result"
    }
   ],
   "source": [
    "s1.find(\"i\")"
   ]
  },
  {
   "cell_type": "code",
   "execution_count": 7,
   "id": "edcda621-8fdb-423b-858f-b818201cc0c5",
   "metadata": {},
   "outputs": [
    {
     "data": {
      "text/plain": [
       "4"
      ]
     },
     "execution_count": 7,
     "metadata": {},
     "output_type": "execute_result"
    }
   ],
   "source": [
    "s1.index(\"i\")"
   ]
  },
  {
   "cell_type": "code",
   "execution_count": 8,
   "id": "f94796d3-9f78-4338-8d56-5a2e1c900cfa",
   "metadata": {},
   "outputs": [
    {
     "data": {
      "text/plain": [
       "-1"
      ]
     },
     "execution_count": 8,
     "metadata": {},
     "output_type": "execute_result"
    }
   ],
   "source": [
    "s1.find(\"z\")"
   ]
  },
  {
   "cell_type": "code",
   "execution_count": 9,
   "id": "22409eb5-e3bd-4878-bebe-cb9e58d10064",
   "metadata": {},
   "outputs": [
    {
     "data": {
      "text/plain": [
       "-1"
      ]
     },
     "execution_count": 9,
     "metadata": {},
     "output_type": "execute_result"
    }
   ],
   "source": [
    "s1.find('y')"
   ]
  },
  {
   "cell_type": "code",
   "execution_count": 2,
   "id": "2067686b-4659-48bd-bace-4793d5c18397",
   "metadata": {},
   "outputs": [],
   "source": [
    "s2 = \"my name is sudhanshu\""
   ]
  },
  {
   "cell_type": "code",
   "execution_count": 3,
   "id": "4fd16321-ad78-4d40-adda-304020d0ce60",
   "metadata": {},
   "outputs": [
    {
     "data": {
      "text/plain": [
       "['my', 'name', 'is', 'sudhanshu']"
      ]
     },
     "execution_count": 3,
     "metadata": {},
     "output_type": "execute_result"
    }
   ],
   "source": [
    "s2.split()"
   ]
  },
  {
   "cell_type": "code",
   "execution_count": 4,
   "id": "50a6ff4c-0103-4bd6-b63d-9d512feac6df",
   "metadata": {},
   "outputs": [],
   "source": [
    "s4 = \"this is my fsds pro class.i am attending this class for 4th time\""
   ]
  },
  {
   "cell_type": "code",
   "execution_count": 5,
   "id": "6a5391e3-884e-4f52-80c5-2825c369bb9e",
   "metadata": {},
   "outputs": [
    {
     "data": {
      "text/plain": [
       "['this',\n",
       " 'is',\n",
       " 'my',\n",
       " 'fsds',\n",
       " 'pro',\n",
       " 'class.i',\n",
       " 'am',\n",
       " 'attending',\n",
       " 'this',\n",
       " 'class',\n",
       " 'for',\n",
       " '4th',\n",
       " 'time']"
      ]
     },
     "execution_count": 5,
     "metadata": {},
     "output_type": "execute_result"
    }
   ],
   "source": [
    "s4.split()"
   ]
  },
  {
   "cell_type": "code",
   "execution_count": 6,
   "id": "048d33c9-f7e9-4443-9611-3669d7ebf163",
   "metadata": {},
   "outputs": [
    {
     "data": {
      "text/plain": [
       "'this is my fsds pro class'"
      ]
     },
     "execution_count": 6,
     "metadata": {},
     "output_type": "execute_result"
    }
   ],
   "source": [
    "s4.split('.')[0]"
   ]
  },
  {
   "cell_type": "code",
   "execution_count": 7,
   "id": "e3a19a6b-eefe-4aee-9ff4-f18f5e45646e",
   "metadata": {},
   "outputs": [
    {
     "data": {
      "text/plain": [
       "'i am attending this class for 4th time'"
      ]
     },
     "execution_count": 7,
     "metadata": {},
     "output_type": "execute_result"
    }
   ],
   "source": [
    "s4.split('.')[1]"
   ]
  },
  {
   "cell_type": "code",
   "execution_count": 8,
   "id": "fedc7ad0-1cf8-4393-b4e4-973fdaf2579d",
   "metadata": {},
   "outputs": [],
   "source": [
    "s = \"my name is sudhanshu kumar\""
   ]
  },
  {
   "cell_type": "code",
   "execution_count": 9,
   "id": "a5e844f7-fc51-47a9-bfc9-97e5fa59eb2f",
   "metadata": {},
   "outputs": [
    {
     "data": {
      "text/plain": [
       "'My Name Is Sudhanshu Kumar'"
      ]
     },
     "execution_count": 9,
     "metadata": {},
     "output_type": "execute_result"
    }
   ],
   "source": [
    "s.title()"
   ]
  },
  {
   "cell_type": "code",
   "execution_count": 10,
   "id": "9bf31553-cbbb-44ac-9a15-efb293877fd8",
   "metadata": {},
   "outputs": [
    {
     "data": {
      "text/plain": [
       "'my aame is sudhaashu kumar'"
      ]
     },
     "execution_count": 10,
     "metadata": {},
     "output_type": "execute_result"
    }
   ],
   "source": [
    "s.replace('n','a')"
   ]
  },
  {
   "cell_type": "code",
   "execution_count": 11,
   "id": "5f6c75bd-2e68-4020-81f3-41bb3253a6ca",
   "metadata": {},
   "outputs": [
    {
     "data": {
      "text/plain": [
       "'my name iS SudhanShu kumar'"
      ]
     },
     "execution_count": 11,
     "metadata": {},
     "output_type": "execute_result"
    }
   ],
   "source": [
    "s.replace('s','S')"
   ]
  },
  {
   "cell_type": "code",
   "execution_count": 12,
   "id": "eadac88d-616f-4375-9fe9-79d5d8b15f31",
   "metadata": {},
   "outputs": [],
   "source": [
    "s1 = \"pwskills\""
   ]
  },
  {
   "cell_type": "code",
   "execution_count": 13,
   "id": "f340502f-c8c7-4f79-9a17-6556c0badaee",
   "metadata": {},
   "outputs": [
    {
     "data": {
      "text/plain": [
       "'ffffffffffffffffpwskillsffffffffffffffff'"
      ]
     },
     "execution_count": 13,
     "metadata": {},
     "output_type": "execute_result"
    }
   ],
   "source": [
    "s1.center(40,'f')"
   ]
  },
  {
   "cell_type": "code",
   "execution_count": 14,
   "id": "5b88b100-37a4-4254-a8c7-2a730e7f6dc5",
   "metadata": {},
   "outputs": [],
   "source": [
    "s1 = \"         pwskills         \""
   ]
  },
  {
   "cell_type": "code",
   "execution_count": 16,
   "id": "6b772955-2673-48d8-ae4c-9715b438677d",
   "metadata": {},
   "outputs": [
    {
     "data": {
      "text/plain": [
       "'pwskills'"
      ]
     },
     "execution_count": 16,
     "metadata": {},
     "output_type": "execute_result"
    }
   ],
   "source": [
    "s1.strip()"
   ]
  },
  {
   "cell_type": "code",
   "execution_count": 17,
   "id": "7f26525f-e68c-4c18-9876-4fded20194ba",
   "metadata": {},
   "outputs": [
    {
     "data": {
      "text/plain": [
       "'         pwskills'"
      ]
     },
     "execution_count": 17,
     "metadata": {},
     "output_type": "execute_result"
    }
   ],
   "source": [
    "s1.rstrip()"
   ]
  },
  {
   "cell_type": "code",
   "execution_count": 18,
   "id": "af9362c9-5493-45ce-8fa9-811567072928",
   "metadata": {},
   "outputs": [
    {
     "data": {
      "text/plain": [
       "'pwskills         '"
      ]
     },
     "execution_count": 18,
     "metadata": {},
     "output_type": "execute_result"
    }
   ],
   "source": [
    "s1.lstrip()"
   ]
  },
  {
   "cell_type": "code",
   "execution_count": 19,
   "id": "f777c527-bb7f-4f6b-8883-a6155dc91b21",
   "metadata": {},
   "outputs": [
    {
     "data": {
      "text/plain": [
       "False"
      ]
     },
     "execution_count": 19,
     "metadata": {},
     "output_type": "execute_result"
    }
   ],
   "source": [
    "s1.isalnum()"
   ]
  },
  {
   "cell_type": "code",
   "execution_count": 20,
   "id": "cca20299-f1d2-4571-9260-b0db90e1bee4",
   "metadata": {},
   "outputs": [
    {
     "data": {
      "text/plain": [
       "False"
      ]
     },
     "execution_count": 20,
     "metadata": {},
     "output_type": "execute_result"
    }
   ],
   "source": [
    "s1.isalpha()"
   ]
  },
  {
   "cell_type": "code",
   "execution_count": 21,
   "id": "83a3400d-b68c-425d-8f54-222152a79ee4",
   "metadata": {},
   "outputs": [],
   "source": [
    "d = \"dhruv\""
   ]
  },
  {
   "cell_type": "code",
   "execution_count": 22,
   "id": "49609fd1-0929-4753-a21f-965c189a1eb6",
   "metadata": {},
   "outputs": [
    {
     "data": {
      "text/plain": [
       "True"
      ]
     },
     "execution_count": 22,
     "metadata": {},
     "output_type": "execute_result"
    }
   ],
   "source": [
    "d.isalpha()"
   ]
  },
  {
   "cell_type": "code",
   "execution_count": 24,
   "id": "804cf6d9-5518-4082-8ba1-39ccdfb9e28e",
   "metadata": {},
   "outputs": [],
   "source": [
    "s1 = [\"pwskills\"]"
   ]
  },
  {
   "cell_type": "code",
   "execution_count": 25,
   "id": "7048d246-2843-4e97-82e3-c2f65b773907",
   "metadata": {},
   "outputs": [],
   "source": [
    "s1.append(\"dhruv\")"
   ]
  },
  {
   "cell_type": "code",
   "execution_count": 26,
   "id": "0ea77ca8-3c7d-4714-8eff-7a4040c7a5c0",
   "metadata": {},
   "outputs": [
    {
     "data": {
      "text/plain": [
       "['pwskills', 'dhruv']"
      ]
     },
     "execution_count": 26,
     "metadata": {},
     "output_type": "execute_result"
    }
   ],
   "source": [
    "s1"
   ]
  },
  {
   "cell_type": "code",
   "execution_count": 28,
   "id": "781ae265-fa6f-43c0-a48a-e599d0a7c15a",
   "metadata": {},
   "outputs": [],
   "source": [
    "s2 = [\"dhruv\",\"goswami\"]"
   ]
  },
  {
   "cell_type": "code",
   "execution_count": 32,
   "id": "04387466-95b1-41a8-976b-c9bea9624fd1",
   "metadata": {},
   "outputs": [],
   "source": [
    "s2.extend(\"sudh\")"
   ]
  },
  {
   "cell_type": "code",
   "execution_count": 33,
   "id": "fc03de5e-0ff7-4a6f-b856-b997311e2f4c",
   "metadata": {},
   "outputs": [
    {
     "data": {
      "text/plain": [
       "['dhruv', 'goswami', 's', 'u', 'd', 'h']"
      ]
     },
     "execution_count": 33,
     "metadata": {},
     "output_type": "execute_result"
    }
   ],
   "source": [
    "s2"
   ]
  },
  {
   "cell_type": "code",
   "execution_count": 36,
   "id": "d7489151-5e91-421b-affa-7e5a2969666d",
   "metadata": {},
   "outputs": [],
   "source": [
    "s2.extend([2,3,4,5,6])"
   ]
  },
  {
   "cell_type": "code",
   "execution_count": 37,
   "id": "04cbb7f8-4553-4bcf-beb7-ac1a13aceab8",
   "metadata": {},
   "outputs": [
    {
     "data": {
      "text/plain": [
       "['dhruv', 'goswami', 's', 'u', 'd', 'h', 2, 3, 4, 5, 6]"
      ]
     },
     "execution_count": 37,
     "metadata": {},
     "output_type": "execute_result"
    }
   ],
   "source": [
    "s2"
   ]
  },
  {
   "cell_type": "code",
   "execution_count": 38,
   "id": "67d72ab0-8922-400b-b1ec-f96008951b9a",
   "metadata": {},
   "outputs": [
    {
     "data": {
      "text/plain": [
       "6"
      ]
     },
     "execution_count": 38,
     "metadata": {},
     "output_type": "execute_result"
    }
   ],
   "source": [
    "s2.pop()"
   ]
  },
  {
   "cell_type": "code",
   "execution_count": 39,
   "id": "64891e5a-d5fe-4fb3-84b5-c8791a403d41",
   "metadata": {},
   "outputs": [
    {
     "data": {
      "text/plain": [
       "['dhruv', 'goswami', 's', 'u', 'd', 'h', 2, 3, 4, 5]"
      ]
     },
     "execution_count": 39,
     "metadata": {},
     "output_type": "execute_result"
    }
   ],
   "source": [
    "s2"
   ]
  },
  {
   "cell_type": "code",
   "execution_count": 40,
   "id": "d2aeeca1-c870-4bfd-a36b-6880afb46e03",
   "metadata": {},
   "outputs": [],
   "source": [
    "l3 = [1,[4,3,65,3],2,4,6,8,9,0,[1,2,3],5,7,8,9]"
   ]
  },
  {
   "cell_type": "code",
   "execution_count": 41,
   "id": "6c312abe-3edf-42d8-8987-4d94a16a7342",
   "metadata": {},
   "outputs": [
    {
     "data": {
      "text/plain": [
       "[4, 3, 65, 3]"
      ]
     },
     "execution_count": 41,
     "metadata": {},
     "output_type": "execute_result"
    }
   ],
   "source": [
    "l3.pop(1)"
   ]
  },
  {
   "cell_type": "code",
   "execution_count": 42,
   "id": "a8e296af-3388-49d8-b532-31b5564c9f49",
   "metadata": {},
   "outputs": [
    {
     "data": {
      "text/plain": [
       "[1, 2, 4, 6, 8, 9, 0, [1, 2, 3], 5, 7, 8, 9]"
      ]
     },
     "execution_count": 42,
     "metadata": {},
     "output_type": "execute_result"
    }
   ],
   "source": [
    "l3"
   ]
  },
  {
   "cell_type": "code",
   "execution_count": 43,
   "id": "bfabea80-1de2-4dbe-a4c8-c85d97a0ee45",
   "metadata": {},
   "outputs": [
    {
     "data": {
      "text/plain": [
       "5"
      ]
     },
     "execution_count": 43,
     "metadata": {},
     "output_type": "execute_result"
    }
   ],
   "source": [
    "l3.pop(8)"
   ]
  },
  {
   "cell_type": "code",
   "execution_count": 44,
   "id": "c0f7f3b9-b6cd-4835-aeaf-a0e8e0036377",
   "metadata": {},
   "outputs": [
    {
     "data": {
      "text/plain": [
       "[1, 2, 4, 6, 8, 9, 0, [1, 2, 3], 7, 8, 9]"
      ]
     },
     "execution_count": 44,
     "metadata": {},
     "output_type": "execute_result"
    }
   ],
   "source": [
    "l3"
   ]
  },
  {
   "cell_type": "code",
   "execution_count": 45,
   "id": "c87539ec-9743-4e3f-80f5-b83982135189",
   "metadata": {},
   "outputs": [
    {
     "data": {
      "text/plain": [
       "[1, 2, 3]"
      ]
     },
     "execution_count": 45,
     "metadata": {},
     "output_type": "execute_result"
    }
   ],
   "source": [
    "l3.pop(7)"
   ]
  },
  {
   "cell_type": "code",
   "execution_count": 46,
   "id": "ddd9056d-194e-45e8-bf6e-551cd0665245",
   "metadata": {},
   "outputs": [
    {
     "data": {
      "text/plain": [
       "[1, 2, 4, 6, 8, 9, 0, 7, 8, 9]"
      ]
     },
     "execution_count": 46,
     "metadata": {},
     "output_type": "execute_result"
    }
   ],
   "source": [
    "l3"
   ]
  },
  {
   "cell_type": "code",
   "execution_count": 47,
   "id": "cb21d4b6-ccac-409c-9799-784e6a923cb5",
   "metadata": {},
   "outputs": [],
   "source": [
    "del l3"
   ]
  },
  {
   "cell_type": "code",
   "execution_count": 49,
   "id": "5beafc29-72e0-452b-a1ae-45d260c0f51e",
   "metadata": {},
   "outputs": [
    {
     "data": {
      "text/plain": [
       "['pwskills', 'dhruv']"
      ]
     },
     "execution_count": 49,
     "metadata": {},
     "output_type": "execute_result"
    }
   ],
   "source": [
    "s1"
   ]
  },
  {
   "cell_type": "code",
   "execution_count": 55,
   "id": "a3d23379-e55e-4ca5-9a3d-1a959a2bac9c",
   "metadata": {},
   "outputs": [],
   "source": [
    "s1 = [\"dhruv\",\"z\",\"goswami\",\"python\"]"
   ]
  },
  {
   "cell_type": "code",
   "execution_count": 57,
   "id": "2c61412a-68b0-4e1f-b003-5e7bd9f41dc1",
   "metadata": {},
   "outputs": [],
   "source": [
    "s1.clear()"
   ]
  },
  {
   "cell_type": "code",
   "execution_count": 58,
   "id": "f9389149-a51c-40ca-9f24-fd0b37187c24",
   "metadata": {},
   "outputs": [
    {
     "data": {
      "text/plain": [
       "[]"
      ]
     },
     "execution_count": 58,
     "metadata": {},
     "output_type": "execute_result"
    }
   ],
   "source": [
    "s1"
   ]
  },
  {
   "cell_type": "code",
   "execution_count": 59,
   "id": "8e7d8312-7918-488a-8e29-49484ee58ef2",
   "metadata": {},
   "outputs": [],
   "source": [
    "s2 = [\"dhruv\",\"goswami\"]"
   ]
  },
  {
   "cell_type": "code",
   "execution_count": 60,
   "id": "9d4ef04e-4b7c-455f-98ad-6f372dfea3fa",
   "metadata": {},
   "outputs": [],
   "source": [
    "s2.reverse()"
   ]
  },
  {
   "cell_type": "code",
   "execution_count": 61,
   "id": "64f92ea4-cc47-4c30-becc-a536d01173c1",
   "metadata": {},
   "outputs": [
    {
     "data": {
      "text/plain": [
       "['goswami', 'dhruv']"
      ]
     },
     "execution_count": 61,
     "metadata": {},
     "output_type": "execute_result"
    }
   ],
   "source": [
    "s2"
   ]
  },
  {
   "cell_type": "code",
   "execution_count": 63,
   "id": "e7c3ac6b-40de-4c13-a050-044b6595a06c",
   "metadata": {},
   "outputs": [
    {
     "data": {
      "text/plain": [
       "['dhruv', 'goswami']"
      ]
     },
     "execution_count": 63,
     "metadata": {},
     "output_type": "execute_result"
    }
   ],
   "source": [
    "s2[ : :-1]"
   ]
  },
  {
   "cell_type": "code",
   "execution_count": 65,
   "id": "7f898d2f-37d6-45dd-936d-335ba5acf72a",
   "metadata": {},
   "outputs": [],
   "source": [
    "l3 = [3,2,5,7,6,4,5,6]"
   ]
  },
  {
   "cell_type": "code",
   "execution_count": 66,
   "id": "a5ac8402-e353-40eb-961c-081d06e70405",
   "metadata": {},
   "outputs": [],
   "source": [
    "l4 = set(l3)"
   ]
  },
  {
   "cell_type": "code",
   "execution_count": 67,
   "id": "1b91f49b-652a-404c-96d8-9a71eb9b8d8f",
   "metadata": {},
   "outputs": [],
   "source": [
    "l5 = list(l4)"
   ]
  },
  {
   "cell_type": "code",
   "execution_count": 68,
   "id": "ad695890-3d59-412b-a508-6270db3f7d72",
   "metadata": {},
   "outputs": [],
   "source": [
    "l5.sort()"
   ]
  },
  {
   "cell_type": "code",
   "execution_count": 69,
   "id": "6928e905-3ec8-4fde-82e3-95ecf5e57038",
   "metadata": {},
   "outputs": [
    {
     "data": {
      "text/plain": [
       "[2, 3, 4, 5, 6, 7]"
      ]
     },
     "execution_count": 69,
     "metadata": {},
     "output_type": "execute_result"
    }
   ],
   "source": [
    "l5"
   ]
  },
  {
   "cell_type": "code",
   "execution_count": 70,
   "id": "1778bd62-867a-4a6d-8623-41ff077c348b",
   "metadata": {},
   "outputs": [],
   "source": [
    "l1 = [2,3,4,5,5]"
   ]
  },
  {
   "cell_type": "code",
   "execution_count": 71,
   "id": "752cc3c0-4084-4a45-9bb4-9e371a0db322",
   "metadata": {},
   "outputs": [],
   "source": [
    "l0 = [2,3,4,5,5]"
   ]
  },
  {
   "cell_type": "code",
   "execution_count": 72,
   "id": "5572a899-e5b9-4d17-99b6-4f8cce25e2ed",
   "metadata": {},
   "outputs": [],
   "source": [
    "l0[0] = 200"
   ]
  },
  {
   "cell_type": "code",
   "execution_count": 74,
   "id": "80dcda46-3ac1-4761-8e02-d50a6fa2c7dc",
   "metadata": {},
   "outputs": [
    {
     "data": {
      "text/plain": [
       "[200, 3, 4, 5, 5]"
      ]
     },
     "execution_count": 74,
     "metadata": {},
     "output_type": "execute_result"
    }
   ],
   "source": [
    "l0"
   ]
  },
  {
   "cell_type": "code",
   "execution_count": 75,
   "id": "962a40b1-c259-4be0-a328-af62ba90c329",
   "metadata": {},
   "outputs": [
    {
     "data": {
      "text/plain": [
       "[2, 3, 4, 5, 5]"
      ]
     },
     "execution_count": 75,
     "metadata": {},
     "output_type": "execute_result"
    }
   ],
   "source": [
    "l1"
   ]
  },
  {
   "cell_type": "code",
   "execution_count": 77,
   "id": "35f4e89e-162c-4ded-ac2f-4444ae1d0dbd",
   "metadata": {},
   "outputs": [],
   "source": [
    "l2 = l1.copy()"
   ]
  },
  {
   "cell_type": "code",
   "execution_count": 78,
   "id": "8c10dfd1-f9f6-443e-8e3d-3d517429e724",
   "metadata": {},
   "outputs": [
    {
     "data": {
      "text/plain": [
       "[2, 3, 4, 5, 5]"
      ]
     },
     "execution_count": 78,
     "metadata": {},
     "output_type": "execute_result"
    }
   ],
   "source": [
    "l2"
   ]
  },
  {
   "cell_type": "code",
   "execution_count": 84,
   "id": "83450855-320b-447d-89b7-378c389f9857",
   "metadata": {},
   "outputs": [],
   "source": [
    "s1 = [\"pwskills\"]"
   ]
  },
  {
   "cell_type": "code",
   "execution_count": 82,
   "id": "99fbd5fe-d42f-4b07-a99e-0503c73e7bb1",
   "metadata": {},
   "outputs": [
    {
     "data": {
      "text/plain": [
       "True"
      ]
     },
     "execution_count": 82,
     "metadata": {},
     "output_type": "execute_result"
    }
   ],
   "source": [
    "'sk' in 'pwskills'"
   ]
  },
  {
   "cell_type": "code",
   "execution_count": 1,
   "id": "c8cfa1e0-c457-445b-a52e-9b052babde3d",
   "metadata": {},
   "outputs": [],
   "source": [
    "s1 = \"pwskills\""
   ]
  },
  {
   "cell_type": "code",
   "execution_count": 2,
   "id": "640bba8a-7b11-4879-99c9-5e591de43b66",
   "metadata": {},
   "outputs": [],
   "source": [
    "s = {3,4,5,6,7,55,66,45,35,56,67,2,3,4}"
   ]
  },
  {
   "cell_type": "code",
   "execution_count": 3,
   "id": "0d36c84d-424d-417b-9a88-99868b48e99b",
   "metadata": {},
   "outputs": [],
   "source": [
    "s.add(234)"
   ]
  },
  {
   "cell_type": "code",
   "execution_count": 4,
   "id": "7a8871cc-1a29-4da7-8c82-56b35927a486",
   "metadata": {},
   "outputs": [
    {
     "data": {
      "text/plain": [
       "{2, 3, 4, 5, 6, 7, 35, 45, 55, 56, 66, 67, 234}"
      ]
     },
     "execution_count": 4,
     "metadata": {},
     "output_type": "execute_result"
    }
   ],
   "source": [
    "s"
   ]
  },
  {
   "cell_type": "code",
   "execution_count": 7,
   "id": "88ad2c26-2d76-4470-85d3-7220d35618f4",
   "metadata": {},
   "outputs": [],
   "source": [
    "d1 = {\"name\":\"dhruv\",\"subject\":[\"data science\",\"big data\",\"data analyst\"],\"number\":4763793}"
   ]
  },
  {
   "cell_type": "code",
   "execution_count": 8,
   "id": "4a10edde-41cb-4290-9b91-d3badc429826",
   "metadata": {},
   "outputs": [
    {
     "data": {
      "text/plain": [
       "{'name': 'dhruv',\n",
       " 'subject': ['data science', 'big data', 'data analyst'],\n",
       " 'number': 4763793}"
      ]
     },
     "execution_count": 8,
     "metadata": {},
     "output_type": "execute_result"
    }
   ],
   "source": [
    "d1"
   ]
  },
  {
   "cell_type": "code",
   "execution_count": 9,
   "id": "d3e13e5c-3884-4406-ac65-1030fabf30b8",
   "metadata": {},
   "outputs": [
    {
     "data": {
      "text/plain": [
       "dict_keys(['name', 'subject', 'number'])"
      ]
     },
     "execution_count": 9,
     "metadata": {},
     "output_type": "execute_result"
    }
   ],
   "source": [
    "d1.keys()"
   ]
  },
  {
   "cell_type": "code",
   "execution_count": 11,
   "id": "072e17a2-df24-41e5-8576-9cf73a68bf18",
   "metadata": {},
   "outputs": [
    {
     "data": {
      "text/plain": [
       "['name', 'subject', 'number']"
      ]
     },
     "execution_count": 11,
     "metadata": {},
     "output_type": "execute_result"
    }
   ],
   "source": [
    "list(d1.keys())"
   ]
  },
  {
   "cell_type": "code",
   "execution_count": 12,
   "id": "fa08cdb2-dfe0-472d-bad9-4836dc148512",
   "metadata": {},
   "outputs": [
    {
     "data": {
      "text/plain": [
       "dict_values(['dhruv', ['data science', 'big data', 'data analyst'], 4763793])"
      ]
     },
     "execution_count": 12,
     "metadata": {},
     "output_type": "execute_result"
    }
   ],
   "source": [
    "d1.values()"
   ]
  },
  {
   "cell_type": "code",
   "execution_count": 13,
   "id": "29184dd3-e8b0-4df6-8e4a-f03915566876",
   "metadata": {},
   "outputs": [
    {
     "data": {
      "text/plain": [
       "dict_items([('name', 'dhruv'), ('subject', ['data science', 'big data', 'data analyst']), ('number', 4763793)])"
      ]
     },
     "execution_count": 13,
     "metadata": {},
     "output_type": "execute_result"
    }
   ],
   "source": [
    "d1.items()"
   ]
  },
  {
   "cell_type": "code",
   "execution_count": 14,
   "id": "f7fb2759-48dd-456f-955f-e5b8c6ac5a16",
   "metadata": {},
   "outputs": [
    {
     "data": {
      "text/plain": [
       "[('name', 'dhruv'),\n",
       " ('subject', ['data science', 'big data', 'data analyst']),\n",
       " ('number', 4763793)]"
      ]
     },
     "execution_count": 14,
     "metadata": {},
     "output_type": "execute_result"
    }
   ],
   "source": [
    "list(d1.items())"
   ]
  },
  {
   "cell_type": "code",
   "execution_count": 15,
   "id": "afa04be1-6838-454e-9a98-19322504f4fd",
   "metadata": {},
   "outputs": [
    {
     "data": {
      "text/plain": [
       "'dhruv'"
      ]
     },
     "execution_count": 15,
     "metadata": {},
     "output_type": "execute_result"
    }
   ],
   "source": [
    "d1.get(\"name\")"
   ]
  },
  {
   "cell_type": "code",
   "execution_count": 20,
   "id": "58768a3d-8a7e-4b9a-a8e5-bee7d3fe0a17",
   "metadata": {},
   "outputs": [
    {
     "data": {
      "text/plain": [
       "'dhruv'"
      ]
     },
     "execution_count": 20,
     "metadata": {},
     "output_type": "execute_result"
    }
   ],
   "source": [
    "d1.pop(\"name\")"
   ]
  },
  {
   "cell_type": "code",
   "execution_count": 22,
   "id": "6cbf4387-8178-428f-bc6f-a74a1ed8f5aa",
   "metadata": {},
   "outputs": [],
   "source": [
    "d1[\"test\"] = \"asdsf\""
   ]
  },
  {
   "cell_type": "code",
   "execution_count": 23,
   "id": "7d0ff188-25a5-41d0-83df-dbdabee3c517",
   "metadata": {},
   "outputs": [
    {
     "data": {
      "text/plain": [
       "{'subject': ['data science', 'big data', 'data analyst'],\n",
       " 'number': 4763793,\n",
       " 'test': 'asdsf'}"
      ]
     },
     "execution_count": 23,
     "metadata": {},
     "output_type": "execute_result"
    }
   ],
   "source": [
    "d1"
   ]
  },
  {
   "cell_type": "code",
   "execution_count": 25,
   "id": "ee55ee44-0ca4-443b-8ecb-8502bf71b4ca",
   "metadata": {},
   "outputs": [],
   "source": [
    "d3 = {\"course\":[\"dsa\",\"java\"],\"mentor\":(\"sudh\",\"krish\",\"imran\"),\"price\":{3500,10000},\"duration\":1,\"access year\":\"1\",\"syllabus\":{\"python\":[\"core python\",\"oops\",\"db\"]}}"
   ]
  },
  {
   "cell_type": "code",
   "execution_count": 26,
   "id": "15fda269-84b6-4dea-b869-5143620e1b19",
   "metadata": {},
   "outputs": [
    {
     "data": {
      "text/plain": [
       "{'course': ['dsa', 'java'],\n",
       " 'mentor': ('sudh', 'krish', 'imran'),\n",
       " 'price': {3500, 10000},\n",
       " 'duration': 1,\n",
       " 'access year': '1',\n",
       " 'syllabus': {'python': ['core python', 'oops', 'db']}}"
      ]
     },
     "execution_count": 26,
     "metadata": {},
     "output_type": "execute_result"
    }
   ],
   "source": [
    "d3"
   ]
  },
  {
   "cell_type": "code",
   "execution_count": 27,
   "id": "91145660-4958-40cf-8911-876881837f35",
   "metadata": {},
   "outputs": [
    {
     "data": {
      "text/plain": [
       "'pwskills'"
      ]
     },
     "execution_count": 27,
     "metadata": {},
     "output_type": "execute_result"
    }
   ],
   "source": [
    "s1"
   ]
  },
  {
   "cell_type": "code",
   "execution_count": 31,
   "id": "5d929e90-460e-416d-a4de-7f638b427b46",
   "metadata": {},
   "outputs": [],
   "source": [
    "s1 = [\"pwskills\",\"s\",\"u\",\"d\",\"h\"]"
   ]
  },
  {
   "cell_type": "code",
   "execution_count": 33,
   "id": "690c078b-d4f7-478d-8d10-840a6f76ea04",
   "metadata": {},
   "outputs": [],
   "source": [
    "s1.remove(\"s\")"
   ]
  },
  {
   "cell_type": "code",
   "execution_count": 34,
   "id": "6acc21a9-8d6f-4482-aa2d-f8ba23e0f7b8",
   "metadata": {},
   "outputs": [
    {
     "data": {
      "text/plain": [
       "['pwskills', 'u', 'd', 'h']"
      ]
     },
     "execution_count": 34,
     "metadata": {},
     "output_type": "execute_result"
    }
   ],
   "source": [
    "s1"
   ]
  },
  {
   "cell_type": "code",
   "execution_count": 35,
   "id": "ff8f65fa-b746-4d30-af92-76389b1b9161",
   "metadata": {},
   "outputs": [
    {
     "data": {
      "text/plain": [
       "{'subject': ['data science', 'big data', 'data analyst'],\n",
       " 'number': 4763793,\n",
       " 'test': 'asdsf'}"
      ]
     },
     "execution_count": 35,
     "metadata": {},
     "output_type": "execute_result"
    }
   ],
   "source": [
    "d1"
   ]
  },
  {
   "cell_type": "code",
   "execution_count": 39,
   "id": "80e86bfe-72ee-412c-a043-b404e7e3d484",
   "metadata": {},
   "outputs": [],
   "source": [
    "d1[\"name\"] = \"dhruv\""
   ]
  },
  {
   "cell_type": "code",
   "execution_count": 40,
   "id": "78421182-a60c-4e24-9347-967062316493",
   "metadata": {},
   "outputs": [
    {
     "data": {
      "text/plain": [
       "{'subject': ['data science', 'big data', 'data analyst'],\n",
       " 'number': 4763793,\n",
       " 'test': 'asdsf',\n",
       " 'name': 'dhruv'}"
      ]
     },
     "execution_count": 40,
     "metadata": {},
     "output_type": "execute_result"
    }
   ],
   "source": [
    "d1"
   ]
  },
  {
   "cell_type": "code",
   "execution_count": 42,
   "id": "d548f2db-89d0-4c7e-9434-304946c886ca",
   "metadata": {},
   "outputs": [
    {
     "data": {
      "text/plain": [
       "'dhruv'"
      ]
     },
     "execution_count": 42,
     "metadata": {},
     "output_type": "execute_result"
    }
   ],
   "source": [
    "d1[\"name\"]"
   ]
  },
  {
   "cell_type": "code",
   "execution_count": 43,
   "id": "9e1a8c29-027d-4612-bd16-daf3b77f0a46",
   "metadata": {},
   "outputs": [
    {
     "data": {
      "text/plain": [
       "{'course': ['dsa', 'java'],\n",
       " 'mentor': ('sudh', 'krish', 'imran'),\n",
       " 'price': {3500, 10000},\n",
       " 'duration': 1,\n",
       " 'access year': '1',\n",
       " 'syllabus': {'python': ['core python', 'oops', 'db']}}"
      ]
     },
     "execution_count": 43,
     "metadata": {},
     "output_type": "execute_result"
    }
   ],
   "source": [
    "d3"
   ]
  }
 ],
 "metadata": {
  "kernelspec": {
   "display_name": "Python 3 (ipykernel)",
   "language": "python",
   "name": "python3"
  },
  "language_info": {
   "codemirror_mode": {
    "name": "ipython",
    "version": 3
   },
   "file_extension": ".py",
   "mimetype": "text/x-python",
   "name": "python",
   "nbconvert_exporter": "python",
   "pygments_lexer": "ipython3",
   "version": "3.10.8"
  }
 },
 "nbformat": 4,
 "nbformat_minor": 5
}
